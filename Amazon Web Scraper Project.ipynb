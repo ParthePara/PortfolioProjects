{
 "cells": [
  {
   "cell_type": "code",
   "execution_count": 1,
   "id": "396dc937",
   "metadata": {},
   "outputs": [],
   "source": [
    "# imoport libraries\n",
    "\n",
    "from bs4 import BeautifulSoup\n",
    "import requests\n",
    "import smtplib\n",
    "import time\n",
    "import datetime\n",
    "import csv\n",
    "import pandas as pd\n",
    "\n"
   ]
  },
  {
   "cell_type": "code",
   "execution_count": 20,
   "id": "336f6de0",
   "metadata": {},
   "outputs": [
    {
     "name": "stdout",
     "output_type": "stream",
     "text": [
      "\n",
      "            Think and Grow Rich: This Book Could Be Worth a Million Dollars to You\n",
      "           \n",
      "\n",
      "                          $8.90\n",
      "                         \n"
     ]
    }
   ],
   "source": [
    "# connect to website\n",
    "\n",
    "URL = 'https://www.amazon.ca/Think-Grow-Rich-Million-Dollars/dp/0449214923/ref=sr_1_1?keywords=think+and+grow+rich&qid=1644187627&sprefix=think+and+%2Caps%2C141&sr=8-1'\n",
    "\n",
    "headers = {\"User-Agent\": \"Mozilla/5.0 (Windows NT 10.0; Win64; x64) AppleWebKit/537.36 (KHTML, like Gecko) Chrome/97.0.4692.99 Safari/537.36\", \"Accept-Encoding\":\"gzip, deflate\", \"Accept\":\"text/html,application/xhtml+xml,application/xml;q=0.9,*/*;q=0.8\", \"DNT\":\"1\",\"Connection\":\"close\", \"Upgrade-Insecure-Requests\":\"1\"}\n",
    "\n",
    "page = requests.get(URL, headers=headers)\n",
    "\n",
    "soup1 = BeautifulSoup(page.content, \"html.parser\")\n",
    "\n",
    "soup2 = BeautifulSoup(soup1.prettify(), 'html.parser')\n",
    "\n",
    "title = soup2.find(id='productTitle').get_text()\n",
    "\n",
    "price = soup2.find(id=\"price\").get_text()\n",
    "\n",
    "print(title)\n",
    "print(price)"
   ]
  },
  {
   "cell_type": "code",
   "execution_count": 21,
   "id": "ffd8b069",
   "metadata": {},
   "outputs": [
    {
     "name": "stdout",
     "output_type": "stream",
     "text": [
      "Think and Grow Rich: This Book Could Be Worth a Million Dollars to You\n",
      "8.90\n"
     ]
    },
    {
     "data": {
      "text/plain": [
       "str"
      ]
     },
     "execution_count": 21,
     "metadata": {},
     "output_type": "execute_result"
    }
   ],
   "source": [
    "price = price.strip()[1:]\n",
    "title = title.strip()\n",
    "\n",
    "print(title)\n",
    "print(price)\n",
    "type(price)"
   ]
  },
  {
   "cell_type": "code",
   "execution_count": 25,
   "id": "043ee1d0",
   "metadata": {},
   "outputs": [
    {
     "name": "stdout",
     "output_type": "stream",
     "text": [
      "2022-02-06\n"
     ]
    }
   ],
   "source": [
    "today = datetime.date.today()\n",
    "\n",
    "print(today)"
   ]
  },
  {
   "cell_type": "code",
   "execution_count": 26,
   "id": "3a9a9552",
   "metadata": {},
   "outputs": [],
   "source": [
    "header =['ProductName','Price','DateScraped']\n",
    "data = [title,price, today]\n",
    "\n",
    "with open('AmazonWebScraper.csv', 'w', newline='',encoding ='UTF8') as f:\n",
    "    writer = csv.writer(f)\n",
    "    writer.writerow(header)\n",
    "    writer.writerow(data)"
   ]
  },
  {
   "cell_type": "code",
   "execution_count": 43,
   "id": "b75c9584",
   "metadata": {},
   "outputs": [
    {
     "name": "stdout",
     "output_type": "stream",
     "text": [
      "                                         ProductName  Price DateScraped\n",
      "0  Think and Grow Rich: This Book Could Be Worth ...    8.9  2022-02-06\n",
      "1  Think and Grow Rich: This Book Could Be Worth ...    8.9  2022-02-06\n",
      "2  Think and Grow Rich: This Book Could Be Worth ...    8.9  2022-02-06\n",
      "3  Think and Grow Rich: This Book Could Be Worth ...    8.9  2022-02-06\n",
      "4  Think and Grow Rich: This Book Could Be Worth ...    8.9  2022-02-06\n",
      "5  Think and Grow Rich: This Book Could Be Worth ...    8.9  2022-02-06\n"
     ]
    }
   ],
   "source": [
    "df = pd.read_csv(r'C:\\Users\\p_par\\Desktop\\Data Analytics Stuff\\2) Porfolio Projects\\6) Python - Web Scraping\\AmazonWebScraper.csv')\n",
    "print(df)"
   ]
  },
  {
   "cell_type": "code",
   "execution_count": 42,
   "id": "43383736",
   "metadata": {},
   "outputs": [],
   "source": [
    "# now appending csv\n",
    "with open('AmazonWebScraper.csv', 'a+', newline='',encoding ='UTF8') as f:\n",
    "    writer = csv.writer(f)\n",
    "    writer.writerow(data)"
   ]
  },
  {
   "cell_type": "code",
   "execution_count": 63,
   "id": "25a0f890",
   "metadata": {},
   "outputs": [],
   "source": [
    "#creating subroutine to send email if price drops below certain amount\n",
    "def send_mail():\n",
    "    server = smtplib.SMTP_SSL('smtp.gmail.com',465)\n",
    "    server.ehlo()\n",
    "    #server.starttls()\n",
    "    server.ehlo()\n",
    "    server.login('*******@gmail.com','*******')\n",
    "    \n",
    "    subject = \"The item you want is below $10! Now is your time to buy!\"\n",
    "    body = \"Hey, now is the time to buy your item at the best price\"\n",
    "    \n",
    "    msg = f\"Subject: {subject}\\n\\n{body}\"\n",
    "    \n",
    "    server.sendmail('*******@gmail.com',msg)"
   ]
  },
  {
   "cell_type": "code",
   "execution_count": 69,
   "id": "42c773a8",
   "metadata": {},
   "outputs": [],
   "source": [
    "#creating a subroutine to periodically check price automatically\n",
    "def check_price():\n",
    "    with open('AmazonWebScraper.csv', 'a+', newline='',encoding ='UTF8') as f:\n",
    "        writer = csv.writer(f)\n",
    "        writer.writerow(data)\n",
    "        \n",
    "   # if(price<10):\n",
    "    #    send_mail()"
   ]
  },
  {
   "cell_type": "code",
   "execution_count": 47,
   "id": "2d94acc2",
   "metadata": {},
   "outputs": [
    {
     "name": "stdout",
     "output_type": "stream",
     "text": [
      "                                         ProductName  Price DateScraped\n",
      "0  Think and Grow Rich: This Book Could Be Worth ...    8.9  2022-02-06\n",
      "1  Think and Grow Rich: This Book Could Be Worth ...    8.9  2022-02-06\n",
      "2  Think and Grow Rich: This Book Could Be Worth ...    8.9  2022-02-06\n",
      "3  Think and Grow Rich: This Book Could Be Worth ...    8.9  2022-02-06\n",
      "4  Think and Grow Rich: This Book Could Be Worth ...    8.9  2022-02-06\n",
      "5  Think and Grow Rich: This Book Could Be Worth ...    8.9  2022-02-06\n"
     ]
    }
   ],
   "source": [
    "df = pd.read_csv(r'C:\\Users\\p_par\\Desktop\\Data Analytics Stuff\\2) Porfolio Projects\\6) Python - Web Scraping\\AmazonWebScraper.csv')\n",
    "print(df)"
   ]
  },
  {
   "cell_type": "code",
   "execution_count": 70,
   "id": "6e0731c7",
   "metadata": {},
   "outputs": [
    {
     "ename": "KeyboardInterrupt",
     "evalue": "",
     "output_type": "error",
     "traceback": [
      "\u001b[1;31m---------------------------------------------------------------------------\u001b[0m",
      "\u001b[1;31mKeyboardInterrupt\u001b[0m                         Traceback (most recent call last)",
      "\u001b[1;32m~\\AppData\\Local\\Temp/ipykernel_6748/3623385233.py\u001b[0m in \u001b[0;36m<module>\u001b[1;34m\u001b[0m\n\u001b[0;32m      2\u001b[0m \u001b[1;32mwhile\u001b[0m\u001b[1;33m(\u001b[0m\u001b[1;32mTrue\u001b[0m\u001b[1;33m)\u001b[0m\u001b[1;33m:\u001b[0m\u001b[1;33m\u001b[0m\u001b[1;33m\u001b[0m\u001b[0m\n\u001b[0;32m      3\u001b[0m     \u001b[0mcheck_price\u001b[0m\u001b[1;33m(\u001b[0m\u001b[1;33m)\u001b[0m\u001b[1;33m\u001b[0m\u001b[1;33m\u001b[0m\u001b[0m\n\u001b[1;32m----> 4\u001b[1;33m     \u001b[0mtime\u001b[0m\u001b[1;33m.\u001b[0m\u001b[0msleep\u001b[0m\u001b[1;33m(\u001b[0m\u001b[1;36m5\u001b[0m\u001b[1;33m)\u001b[0m\u001b[1;33m\u001b[0m\u001b[1;33m\u001b[0m\u001b[0m\n\u001b[0m",
      "\u001b[1;31mKeyboardInterrupt\u001b[0m: "
     ]
    }
   ],
   "source": [
    "#run every 5 seconds\n",
    "while(True):\n",
    "    check_price()\n",
    "    time.sleep(5)"
   ]
  },
  {
   "cell_type": "code",
   "execution_count": 71,
   "id": "bec1ee4a",
   "metadata": {},
   "outputs": [
    {
     "name": "stdout",
     "output_type": "stream",
     "text": [
      "                                          ProductName  Price DateScraped\n",
      "0   Think and Grow Rich: This Book Could Be Worth ...    8.9  2022-02-06\n",
      "1   Think and Grow Rich: This Book Could Be Worth ...    8.9  2022-02-06\n",
      "2   Think and Grow Rich: This Book Could Be Worth ...    8.9  2022-02-06\n",
      "3   Think and Grow Rich: This Book Could Be Worth ...    8.9  2022-02-06\n",
      "4   Think and Grow Rich: This Book Could Be Worth ...    8.9  2022-02-06\n",
      "5   Think and Grow Rich: This Book Could Be Worth ...    8.9  2022-02-06\n",
      "6   Think and Grow Rich: This Book Could Be Worth ...    8.9  2022-02-06\n",
      "7   Think and Grow Rich: This Book Could Be Worth ...    8.9  2022-02-06\n",
      "8   Think and Grow Rich: This Book Could Be Worth ...    8.9  2022-02-06\n",
      "9   Think and Grow Rich: This Book Could Be Worth ...    8.9  2022-02-06\n",
      "10  Think and Grow Rich: This Book Could Be Worth ...    8.9  2022-02-06\n",
      "11  Think and Grow Rich: This Book Could Be Worth ...    8.9  2022-02-06\n",
      "12  Think and Grow Rich: This Book Could Be Worth ...    8.9  2022-02-06\n",
      "13  Think and Grow Rich: This Book Could Be Worth ...    8.9  2022-02-06\n",
      "14  Think and Grow Rich: This Book Could Be Worth ...    8.9  2022-02-06\n",
      "15  Think and Grow Rich: This Book Could Be Worth ...    8.9  2022-02-06\n",
      "16  Think and Grow Rich: This Book Could Be Worth ...    8.9  2022-02-06\n",
      "17  Think and Grow Rich: This Book Could Be Worth ...    8.9  2022-02-06\n",
      "18  Think and Grow Rich: This Book Could Be Worth ...    8.9  2022-02-06\n",
      "19  Think and Grow Rich: This Book Could Be Worth ...    8.9  2022-02-06\n"
     ]
    }
   ],
   "source": [
    "df = pd.read_csv(r'C:\\Users\\p_par\\Desktop\\Data Analytics Stuff\\2) Porfolio Projects\\6) Python - Web Scraping\\AmazonWebScraper.csv')\n",
    "print(df)"
   ]
  },
  {
   "cell_type": "code",
   "execution_count": null,
   "id": "90dc6192",
   "metadata": {},
   "outputs": [],
   "source": []
  }
 ],
 "metadata": {
  "kernelspec": {
   "display_name": "Python 3 (ipykernel)",
   "language": "python",
   "name": "python3"
  },
  "language_info": {
   "codemirror_mode": {
    "name": "ipython",
    "version": 3
   },
   "file_extension": ".py",
   "mimetype": "text/x-python",
   "name": "python",
   "nbconvert_exporter": "python",
   "pygments_lexer": "ipython3",
   "version": "3.9.7"
  }
 },
 "nbformat": 4,
 "nbformat_minor": 5
}
