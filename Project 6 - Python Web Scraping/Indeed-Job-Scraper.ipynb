{
 "cells": [
  {
   "cell_type": "code",
   "execution_count": 303,
   "id": "4e2a8f0b-93e1-4cb1-9425-4f54f44541a7",
   "metadata": {},
   "outputs": [],
   "source": [
    "import csv\n",
    "from datetime import datetime\n",
    "import requests\n",
    "from bs4 import BeautifulSoup"
   ]
  },
  {
   "cell_type": "code",
   "execution_count": 304,
   "id": "ab08dc61-2c9e-44cd-9468-6c997564c9bb",
   "metadata": {},
   "outputs": [],
   "source": [
    "template = 'https://ca.indeed.com/jobs?q={}&l={}&jt=fulltime&fromage=14&sort=date'"
   ]
  },
  {
   "cell_type": "code",
   "execution_count": 305,
   "id": "53a6fed8-b5be-4d0f-8d88-7281e1e57eb6",
   "metadata": {},
   "outputs": [],
   "source": [
    "def get_url(position, location):\n",
    "    \"\"\"Generate a url from position and location\"\"\"\n",
    "    template = 'https://ca.indeed.com/jobs?q={}&l={}&jt=fulltime&fromage=14&sort=date'\n",
    "    url = template.format(position, location)\n",
    "    return url"
   ]
  },
  {
   "cell_type": "code",
   "execution_count": 306,
   "id": "b5a752a9-f9e5-49ed-b140-54bacbca4453",
   "metadata": {},
   "outputs": [],
   "source": [
    "url = get_url('title:\"business analyst\"','Toronto, ON')"
   ]
  },
  {
   "cell_type": "markdown",
   "id": "40ae9d52-4939-455c-844c-2bf6756f26fb",
   "metadata": {},
   "source": [
    "## Extract raw html"
   ]
  },
  {
   "cell_type": "code",
   "execution_count": 307,
   "id": "67ac0591-9f5f-4262-9426-be673f3549da",
   "metadata": {
    "tags": []
   },
   "outputs": [],
   "source": [
    "response = requests.get(url)"
   ]
  },
  {
   "cell_type": "code",
   "execution_count": 308,
   "id": "794a503a-a49f-4ed6-9f19-a3adc1bbd86a",
   "metadata": {},
   "outputs": [
    {
     "data": {
      "text/plain": [
       "<Response [200]>"
      ]
     },
     "execution_count": 308,
     "metadata": {},
     "output_type": "execute_result"
    }
   ],
   "source": [
    "response"
   ]
  },
  {
   "cell_type": "code",
   "execution_count": 309,
   "id": "eaf777f1-431e-4c7b-bba3-2ea8ecd1cf1f",
   "metadata": {},
   "outputs": [
    {
     "data": {
      "text/plain": [
       "''"
      ]
     },
     "execution_count": 309,
     "metadata": {},
     "output_type": "execute_result"
    }
   ],
   "source": [
    "response.reason"
   ]
  },
  {
   "cell_type": "code",
   "execution_count": 310,
   "id": "50daa28b-6236-4cd1-8eaa-a0695e867ddf",
   "metadata": {},
   "outputs": [],
   "source": [
    "soup = BeautifulSoup(response.text, 'html.parser')"
   ]
  },
  {
   "cell_type": "code",
   "execution_count": 311,
   "id": "5cbfec2b-ab14-497b-8ebc-ec834dfb6429",
   "metadata": {},
   "outputs": [],
   "source": [
    "cards = soup.find_all('a', 'tapItem')"
   ]
  },
  {
   "cell_type": "code",
   "execution_count": 312,
   "id": "7161b6d1-d6be-411c-9c6d-cf7e26f71bee",
   "metadata": {},
   "outputs": [
    {
     "data": {
      "text/plain": [
       "15"
      ]
     },
     "execution_count": 312,
     "metadata": {},
     "output_type": "execute_result"
    }
   ],
   "source": [
    "len(cards)"
   ]
  },
  {
   "cell_type": "markdown",
   "id": "913b19ab-eefe-4d83-85c7-600b55d087e6",
   "metadata": {},
   "source": [
    "## Prototype the model with a single record"
   ]
  },
  {
   "cell_type": "code",
   "execution_count": 375,
   "id": "e5463060-9077-4898-996f-80c8e0758b99",
   "metadata": {},
   "outputs": [],
   "source": [
    "card = cards[0]"
   ]
  },
  {
   "cell_type": "code",
   "execution_count": 348,
   "id": "8eaf365b-2e80-4aa3-8533-887c62ed8dc4",
   "metadata": {},
   "outputs": [],
   "source": [
    "job_title = card.select_one(\"span[title]\").text.strip()"
   ]
  },
  {
   "cell_type": "code",
   "execution_count": 376,
   "id": "ddd13128-b0aa-467a-b946-d63172e3efdf",
   "metadata": {},
   "outputs": [],
   "source": [
    "job_url = 'https://ca.indeed.com' + card.get('href')"
   ]
  },
  {
   "cell_type": "code",
   "execution_count": 349,
   "id": "fbbc09fd-0d93-49bc-a279-00066efd26c9",
   "metadata": {},
   "outputs": [],
   "source": [
    "company = card.find('span', 'companyName').text.strip()"
   ]
  },
  {
   "cell_type": "code",
   "execution_count": 328,
   "id": "9370acc3-62f8-46bc-9876-6f8e87b887f7",
   "metadata": {},
   "outputs": [],
   "source": [
    "job_location = card.find('div', 'companyLocation').text.strip()"
   ]
  },
  {
   "cell_type": "code",
   "execution_count": 329,
   "id": "2aad586f-e68c-4ce5-8209-0ed3c1e6ad75",
   "metadata": {},
   "outputs": [],
   "source": [
    "job_summary = card.find('div','job-snippet').text.strip().replace('\\n', '. ')"
   ]
  },
  {
   "cell_type": "code",
   "execution_count": 330,
   "id": "369b15f9-d155-4baa-80a7-deb7be655bb7",
   "metadata": {},
   "outputs": [],
   "source": [
    "posted_date = card.find('span', 'date').text.strip()"
   ]
  },
  {
   "cell_type": "code",
   "execution_count": 331,
   "id": "a8641a9b-9b93-40e6-a7da-1a0d4df306ed",
   "metadata": {},
   "outputs": [],
   "source": [
    "today = datetime.today().strftime('%Y-%m-%d')"
   ]
  },
  {
   "cell_type": "code",
   "execution_count": 373,
   "id": "18b3175a-ce75-4793-a453-6956bbc50033",
   "metadata": {},
   "outputs": [],
   "source": [
    "try:\n",
    "    job_salary = card.find('div','metadata salary-snippet-container').text.strip()\n",
    "except AttributeError:\n",
    "    job_salary = ''"
   ]
  },
  {
   "cell_type": "code",
   "execution_count": 382,
   "id": "23ac503e-0687-427b-afe1-6750ab17f76f",
   "metadata": {},
   "outputs": [],
   "source": [
    "response2 = requests.get(job_url)\n",
    "soup2 = BeautifulSoup(response2.text, 'html.parser')\n",
    "job_description = soup2.find('div',{'id':'jobDescriptionText'},{'class':'jobsearch-jobDescriptionText'}).text.strip().replace('\\n','. ')"
   ]
  },
  {
   "cell_type": "markdown",
   "id": "4aece374-6794-4898-ab40-e6822eff2d75",
   "metadata": {},
   "source": [
    "## Generalize the model with a function"
   ]
  },
  {
   "cell_type": "code",
   "execution_count": 384,
   "id": "398df7c1-ceaa-4144-b79d-63528bbbee73",
   "metadata": {},
   "outputs": [],
   "source": [
    "def get_record(card):\n",
    "    \"\"\"Extract job data from a single record\"\"\"\n",
    "    job_title = card.select_one(\"span[title]\").text.strip()\n",
    "    job_url = 'https://ca.indeed.com' + card.get('href')\n",
    "    company = card.find('span', 'companyName').text.strip()\n",
    "    job_location = card.find('div', 'companyLocation').text.strip()\n",
    "    job_summary = card.find('div','job-snippet').text.strip().replace('\\n', '. ')\n",
    "    posted_date = card.find('span', 'date').text.strip()\n",
    "    today = datetime.today().strftime('%Y-%m-%d')\n",
    "    try:\n",
    "        job_salary = card.find('div','metadata salary-snippet-container').text.strip()\n",
    "    except AttributeError:\n",
    "        job_salary = ''\n",
    "    \n",
    "    response2 = requests.get(job_url)\n",
    "    soup2 = BeautifulSoup(response2.text, 'html.parser')\n",
    "    job_description = soup2.find('div',{'id':'jobDescriptionText'},{'class':'jobsearch-jobDescriptionText'}).text.strip().replace('\\n','. ')\n",
    "    \n",
    "    record = (job_title, company, job_location, job_salary, job_summary, job_description, posted_date, today, job_url)\n",
    "    \n",
    "    return record"
   ]
  },
  {
   "cell_type": "code",
   "execution_count": 355,
   "id": "a9fc32cb-428c-49e4-b8f3-958243d4dd16",
   "metadata": {},
   "outputs": [],
   "source": [
    "records = []\n",
    "\n",
    "for card in cards:\n",
    "    record = get_record(card)\n",
    "    records.append(record)"
   ]
  },
  {
   "cell_type": "code",
   "execution_count": 360,
   "id": "182f14e4-2cb4-4e7a-9a92-6d4a856f1773",
   "metadata": {},
   "outputs": [
    {
     "data": {
      "text/plain": [
       "('Business Analyst',\n",
       " 'Total Credit Recovery',\n",
       " 'North York, ON',\n",
       " '$16 - $20 an hour',\n",
       " 'Provide consultation to key clients on strategies and business trends.. Conduct analysis and present insights to business leaders in monthly meetings.',\n",
       " 'PostedJust posted',\n",
       " '2022-03-11',\n",
       " 'https://ca.indeed.com/company/Total-credit-recovery/jobs/Business-Analyst-869a7b988f69b16a?fccid=fbd36ea7a8fc690f&vjs=3')"
      ]
     },
     "execution_count": 360,
     "metadata": {},
     "output_type": "execute_result"
    }
   ],
   "source": [
    "records[0]"
   ]
  },
  {
   "cell_type": "markdown",
   "id": "10980500-22bd-4024-80f0-91748e6effab",
   "metadata": {},
   "source": [
    "## Getting the next page"
   ]
  },
  {
   "cell_type": "code",
   "execution_count": 364,
   "id": "e6819470-cb05-4f52-a184-01a802a061c5",
   "metadata": {},
   "outputs": [],
   "source": [
    "while True:\n",
    "    try:\n",
    "        url = 'https://ca.indeed.com' + soup.find('a', {'aria-label':'Next'}).get('href')\n",
    "    except AttributeError:\n",
    "        break\n",
    "        \n",
    "    response = requests.get(url)\n",
    "    soup = BeautifulSoup(response.text, 'html.parser')\n",
    "    cards = soup.find_all('a', 'tapItem')\n",
    "    \n",
    "    for card in cards:\n",
    "        record = get_record(card)\n",
    "        records.append(record)"
   ]
  },
  {
   "cell_type": "code",
   "execution_count": 365,
   "id": "a7fd7c74-458b-4523-b3bb-72138f8d98c7",
   "metadata": {},
   "outputs": [
    {
     "data": {
      "text/plain": [
       "117"
      ]
     },
     "execution_count": 365,
     "metadata": {},
     "output_type": "execute_result"
    }
   ],
   "source": [
    "len(records)"
   ]
  },
  {
   "cell_type": "code",
   "execution_count": 369,
   "id": "96d7695b-839e-4fb6-bd92-d44759c5ba3d",
   "metadata": {},
   "outputs": [
    {
     "data": {
      "text/plain": [
       "('Senior Salesforce Business Analyst',\n",
       " 'Salesforce',\n",
       " 'Toronto, ON',\n",
       " '$70,600 a year',\n",
       " 'Document future state business processes.. Write user stories for future state business processes and get client sign-off.. 3+ years of relevant work experience.',\n",
       " 'Posted14 days ago',\n",
       " '2022-03-11',\n",
       " 'https://ca.indeed.com/rc/clk?jk=f5f53cbd554587c3&fccid=4027cfd917e1ee29&vjs=3')"
      ]
     },
     "execution_count": 369,
     "metadata": {},
     "output_type": "execute_result"
    }
   ],
   "source": [
    "records[116]"
   ]
  },
  {
   "cell_type": "markdown",
   "id": "aac072e9-a495-42b0-b8c3-663c61527ab1",
   "metadata": {},
   "source": [
    "## Putting it all together"
   ]
  },
  {
   "cell_type": "code",
   "execution_count": 13,
   "id": "25d2e271-6b3a-48cf-afc9-ccecc8bb8604",
   "metadata": {},
   "outputs": [],
   "source": [
    "import csv\n",
    "from datetime import datetime\n",
    "import requests\n",
    "from bs4 import BeautifulSoup\n",
    "from time import sleep\n",
    "\n",
    "headers = {\n",
    "    'accept': 'text/html,application/xhtml+xml,application/xml;q=0.9,image/webp,image/apng,*/*;q=0.8,application/signed-exchange;v=b3;q=0.9',\n",
    "    'accept-encoding': 'gzip, deflate, br',\n",
    "    'accept-language': 'en-US,en;q=0.9',\n",
    "    'cache-control': 'max-age=0',\n",
    "    'sec-fetch-dest': 'document',\n",
    "    'sec-fetch-mode': 'navigate',\n",
    "    'sec-fetch-site': 'none',\n",
    "    'sec-fetch-user': '?1',\n",
    "    'upgrade-insecure-requests': '1',\n",
    "    'user-agent': 'Mozilla/5.0 (Windows NT 10.0; Win64; x64) AppleWebKit/537.36 (KHTML, like Gecko) Chrome/87.0.4280.67 Safari/537.36 Edg/87.0.664.47'\n",
    "}\n",
    "\n",
    "def get_url(position, location):\n",
    "    \"\"\"Generate a url from position and location\"\"\"\n",
    "    template = 'https://ca.indeed.com/jobs?q={}&l={}&jt=fulltime&fromage=14&sort=date'\n",
    "    url = template.format(position, location)\n",
    "    return url\n",
    "\n",
    "def get_record(card):\n",
    "    \"\"\"Extract job data from a single record\"\"\"\n",
    "    try:\n",
    "        job_title = card.select_one(\"span[title]\").text.strip()\n",
    "    except AttributeError:\n",
    "        job_title = ''\n",
    "    try:\n",
    "        job_url = 'https://ca.indeed.com' + card.get('href')\n",
    "    except AttributeError:\n",
    "        job_url = ''\n",
    "    try:\n",
    "        company = card.find('span', 'companyName').text.strip()\n",
    "    except AttributeError:\n",
    "        company = ''\n",
    "    try:    \n",
    "        job_location = card.find('div', 'companyLocation').text.strip()\n",
    "    except AttributeError:\n",
    "        job_location = ''\n",
    "    try:    \n",
    "        job_summary = card.find('div','job-snippet').text.strip().replace('\\n', '. ')\n",
    "    except AttributeError:\n",
    "        job_summary = ''\n",
    "    try:\n",
    "        posted_date = card.find('span', 'date').text.strip()\n",
    "    except AttributeError:\n",
    "        posted_date = ''\n",
    "    today = datetime.today().strftime('%Y-%m-%d')\n",
    "    try:\n",
    "        job_salary = card.find('div','metadata salary-snippet-container').text.strip()\n",
    "    except AttributeError:\n",
    "        job_salary = ''\n",
    "    \n",
    "    job_description = get_description(job_url)\n",
    "        \n",
    "    record = (job_title, company, job_location, job_salary, job_summary, job_description, posted_date, today, job_url) \n",
    "    return record\n",
    "\n",
    "def get_description(job_url):\n",
    "    \"\"\"Extrace job descrition from job posting link\"\"\"\n",
    "    response2 = requests.get(job_url)\n",
    "    sleep(3)\n",
    "    soup2 = BeautifulSoup(response2.text, 'html.parser')\n",
    "    try:\n",
    "        job_description = soup2.find('div','jobsearch-jobDescriptionText').text.strip().replace('\\n','. ')\n",
    "    except AttributeError:\n",
    "        job_description = ''\n",
    "    return job_description\n",
    "    \n",
    "def main(position, location):\n",
    "    \"\"\"Run the main program routine\"\"\"\n",
    "    records = []\n",
    "    url = get_url(position, location)\n",
    "    \n",
    "    # extract the job data \n",
    "    while True:\n",
    "        response = requests.get(url, headers=headers)\n",
    "        soup = BeautifulSoup(response.text, 'html.parser')\n",
    "        cards = soup.find_all('a', 'tapItem')\n",
    "\n",
    "        for card in cards:\n",
    "            record = get_record(card)\n",
    "            records.append(record)\n",
    "    \n",
    "        try:\n",
    "            url = 'https://ca.indeed.com' + soup.find('a', {'aria-label':'Next'}).get('href')\n",
    "            sleep(3)\n",
    "        except AttributeError:\n",
    "            break\n",
    "            \n",
    "    # save the job data\n",
    "    with open('results.csv', 'w', newline='', encoding='utf-8') as f:\n",
    "        writer = csv.writer(f)\n",
    "        writer.writerow(['JobTitle', 'Company', 'Location', 'Salary', 'Summary', 'Description', 'PostDate', 'ExtractDate', 'JobUrl'])\n",
    "        writer.writerows(records)"
   ]
  },
  {
   "cell_type": "code",
   "execution_count": 14,
   "id": "b7d26c16-0a50-4a6e-9f0d-8fd019998447",
   "metadata": {},
   "outputs": [],
   "source": [
    "# run the main program\n",
    "main('title:\"data analyst\"', 'Toronto, ON')"
   ]
  },
  {
   "cell_type": "code",
   "execution_count": null,
   "id": "871c709c-50d4-45df-8d7b-52c3b1b15950",
   "metadata": {},
   "outputs": [],
   "source": []
  }
 ],
 "metadata": {
  "kernelspec": {
   "display_name": "Python 3 (ipykernel)",
   "language": "python",
   "name": "python3"
  },
  "language_info": {
   "codemirror_mode": {
    "name": "ipython",
    "version": 3
   },
   "file_extension": ".py",
   "mimetype": "text/x-python",
   "name": "python",
   "nbconvert_exporter": "python",
   "pygments_lexer": "ipython3",
   "version": "3.9.7"
  }
 },
 "nbformat": 4,
 "nbformat_minor": 5
}
